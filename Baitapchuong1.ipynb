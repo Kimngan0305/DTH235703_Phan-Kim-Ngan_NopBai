{
  "nbformat": 4,
  "nbformat_minor": 0,
  "metadata": {
    "colab": {
      "provenance": []
    },
    "kernelspec": {
      "name": "python3",
      "display_name": "Python 3"
    },
    "language_info": {
      "name": "python"
    }
  },
  "cells": [
    {
      "cell_type": "code",
      "execution_count": 2,
      "metadata": {
        "colab": {
          "base_uri": "https://localhost:8080/"
        },
        "id": "8NHjDtRmP79P",
        "outputId": "f5d8a1be-6903-4789-a1ac-41fcd674c342"
      },
      "outputs": [
        {
          "output_type": "stream",
          "name": "stdout",
          "text": [
            "Albert Enistein đã từng nói: Một người không bao giờ mắc sai lầm không bao giờ thử bất kỳ điều gì mới.\n"
          ]
        }
      ],
      "source": [
        "print('Albert Enistein đã từng nói: Một người không bao giờ mắc sai lầm không bao giờ thử bất kỳ điều gì mới.')"
      ]
    },
    {
      "cell_type": "code",
      "source": [
        "import math\n",
        "import os"
      ],
      "metadata": {
        "id": "YhIb7vPaP_K6"
      },
      "execution_count": 6,
      "outputs": []
    },
    {
      "cell_type": "code",
      "source": [
        "# module1.py\n",
        "module1_question = 'What is the meaning of Life, the Universe, and Everything? '\n",
        "module1_answer =42\n",
        "\n",
        "# module2.py\n",
        "module2_question = 'What is your quest? '\n",
        "module2_answer ='To seek the holy grail.'\n",
        "\n",
        "print(module1_question)\n",
        "print(module1_answer)\n",
        "print(module2_question)\n",
        "print(module2_answer)"
      ],
      "metadata": {
        "colab": {
          "base_uri": "https://localhost:8080/"
        },
        "id": "uk7ui_pTVQ1v",
        "outputId": "0200a3b3-9dd1-49fc-f1f7-349a8759707f"
      },
      "execution_count": 16,
      "outputs": [
        {
          "output_type": "stream",
          "name": "stdout",
          "text": [
            "What is the meaning of Life, the Universe, and Everything? \n",
            "42\n",
            "What is your quest? \n",
            "To seek the holy grail.\n"
          ]
        }
      ]
    },
    {
      "cell_type": "code",
      "source": [
        "print('Chao cac ban!')"
      ],
      "metadata": {
        "colab": {
          "base_uri": "https://localhost:8080/"
        },
        "id": "FUwnQqVaVx7x",
        "outputId": "0a8aa8f4-7a01-4714-f87f-34fd884e6db2"
      },
      "execution_count": 17,
      "outputs": [
        {
          "output_type": "stream",
          "name": "stdout",
          "text": [
            "Chao cac ban!\n"
          ]
        }
      ]
    },
    {
      "cell_type": "code",
      "source": [
        "print('Phan Kim Ngan')"
      ],
      "metadata": {
        "colab": {
          "base_uri": "https://localhost:8080/"
        },
        "id": "q9w42dgeWLDT",
        "outputId": "b354f645-f63b-4b05-9c46-aee71a9bb812"
      },
      "execution_count": 18,
      "outputs": [
        {
          "output_type": "stream",
          "name": "stdout",
          "text": [
            "Phan Kim Ngan\n"
          ]
        }
      ]
    },
    {
      "cell_type": "code",
      "source": [],
      "metadata": {
        "id": "BoY3J1QbWWeM"
      },
      "execution_count": null,
      "outputs": []
    }
  ]
}